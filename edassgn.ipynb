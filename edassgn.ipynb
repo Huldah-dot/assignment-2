{
 "cells": [
  {
   "cell_type": "code",
   "execution_count": 1,
   "id": "ea4b7fd4",
   "metadata": {},
   "outputs": [
    {
     "name": "stdout",
     "output_type": "stream",
     "text": [
      "Requirement already satisfied: mysql-connector-python in c:\\users\\hp\\appdata\\local\\programs\\python\\python313\\lib\\site-packages (9.3.0)\n",
      "Note: you may need to restart the kernel to use updated packages.\n"
     ]
    }
   ],
   "source": [
    "import mysql\n",
    "import mysql.connector\n",
    "%pip install mysql-connector-python"
   ]
  },
  {
   "cell_type": "code",
   "execution_count": 2,
   "id": "201fc4d9",
   "metadata": {},
   "outputs": [],
   "source": [
    "def create_connection():\n",
    "    try:\n",
    "        connection = mysql.connector.connect(\n",
    "            host='localhost',\n",
    "            user='root',\n",
    "            password='#Nyabwari8099',)\n",
    "        print(\"mysql connection created successfully!\")\n",
    "        return connection\n",
    "    except mysql.connector.Error as err:\n",
    "        print(f\"Error: {err}\")\n",
    "        return None"
   ]
  },
  {
   "cell_type": "code",
   "execution_count": 3,
   "id": "03c12e90",
   "metadata": {},
   "outputs": [],
   "source": [
    "def execute_query(connection,query):\n",
    "   cursor =connection.cursor()\n",
    "   try:\n",
    "        cursor.execute(query)\n",
    "        connection.commit()\n",
    "        print(\"query executed successfully!\")\n",
    "   except mysql.connector.Error as err:\n",
    "        print(f\"Error: {err}\")\n",
    "   finally:\n",
    "        cursor.close()"
   ]
  },
  {
   "cell_type": "code",
   "execution_count": 4,
   "id": "b0ec2a97",
   "metadata": {},
   "outputs": [],
   "source": [
    "def execute_query(connection,query):\n",
    "   cursor =connection.cursor()\n",
    "   try:\n",
    "        cursor.execute(query)\n",
    "        connection.commit()\n",
    "        print(\"query executed successfully!\")\n",
    "   except mysql.connector.Error as err:\n",
    "        print(f\"Error: {err}\")\n",
    "   finally:\n",
    "        cursor.close()"
   ]
  },
  {
   "cell_type": "code",
   "execution_count": 5,
   "id": "3b60aa9d",
   "metadata": {},
   "outputs": [
    {
     "name": "stdout",
     "output_type": "stream",
     "text": [
      "mysql connection created successfully!\n",
      "query executed successfully!\n",
      "query executed successfully!\n",
      "database created successfully!\n"
     ]
    }
   ],
   "source": [
    "connection = create_connection()\n",
    "execute_query(connection, \"CREATE DATABASE IF NOT EXISTS edu_institute\")\n",
    "execute_query(connection, \"USE edu_institute\")\n",
    "print(\"database created successfully!\")"
   ]
  },
  {
   "cell_type": "code",
   "execution_count": 6,
   "id": "71077ed9",
   "metadata": {},
   "outputs": [
    {
     "name": "stdout",
     "output_type": "stream",
     "text": [
      "query executed successfully!\n",
      "query executed successfully!\n"
     ]
    }
   ],
   "source": [
    "# Ensure the correct database is selected and connection is open\n",
    "if connection is not None and connection.is_connected():\n",
    "    execute_query(connection, \"USE edu_institute\")\n",
    "    create_table_query = \"\"\"\n",
    "    CREATE TABLE IF NOT EXISTS STUDENTS (\n",
    "        student_id INT PRIMARY KEY,\n",
    "        name VARCHAR(50),\n",
    "        age INT,\n",
    "        gender CHAR(1),\n",
    "        enrollment_date DATE,\n",
    "        program VARCHAR(50)\n",
    "    );\n",
    "    \"\"\"\n",
    "    execute_query(connection, create_table_query)\n",
    "else:\n",
    "    print(\"No valid connection to MySQL.\")"
   ]
  },
  {
   "cell_type": "code",
   "execution_count": 7,
   "id": "2c8cfe0f",
   "metadata": {},
   "outputs": [
    {
     "name": "stdout",
     "output_type": "stream",
     "text": [
      "query executed successfully!\n",
      "data inserted successfully!\n"
     ]
    }
   ],
   "source": [
    "from datetime import date\n",
    "\n",
    "# Ensure the correct database is selected\n",
    "execute_query(connection, \"USE edu_institute\")\n",
    "\n",
    "student_data = [\n",
    "    (1, 'Jael', 20, 'F', date(2023, 11, 15), 'computer science'),\n",
    "    (2, 'Samuel', 22, 'M', date(2023, 12, 20), 'data science'),\n",
    "    (3, 'Anna', 21, 'F', date(2023, 11, 15), 'software engineering'),\n",
    "    (4, 'Isaac', 22, 'M', date(2023, 12, 20), 'software engineering'),\n",
    "    (5, 'Mark', 20, 'M', date(2023, 11, 20), 'computer science')\n",
    "]\n",
    "cursor = connection.cursor()\n",
    "insert_query = \"INSERT IGNORE INTO students(student_id, name, age, gender, enrollment_date, program) VALUES (%s, %s, %s, %s, %s, %s)\"\n",
    "cursor.executemany(insert_query, student_data)\n",
    "connection.commit()\n",
    "cursor.close()\n",
    "print(\"data inserted successfully!\")"
   ]
  },
  {
   "cell_type": "code",
   "execution_count": 8,
   "id": "83557eb8",
   "metadata": {},
   "outputs": [
    {
     "name": "stdout",
     "output_type": "stream",
     "text": [
      "(2, 'Samuel', 22, 'M', datetime.date(2023, 12, 20), 'data science')\n"
     ]
    },
    {
     "data": {
      "text/plain": [
       "True"
      ]
     },
     "execution_count": 8,
     "metadata": {},
     "output_type": "execute_result"
    }
   ],
   "source": [
    "query = \"SELECT * FROM students WHERE program = 'data science'\"\n",
    "cursor = connection.cursor()\n",
    "cursor.execute(query)\n",
    "results = cursor.fetchall()\n",
    "for row in results:\n",
    "\tprint(row)\n",
    "cursor.close()"
   ]
  },
  {
   "cell_type": "code",
   "execution_count": 9,
   "id": "d17825ea",
   "metadata": {},
   "outputs": [
    {
     "name": "stdout",
     "output_type": "stream",
     "text": [
      "Total students: 5\n"
     ]
    },
    {
     "data": {
      "text/plain": [
       "True"
      ]
     },
     "execution_count": 9,
     "metadata": {},
     "output_type": "execute_result"
    }
   ],
   "source": [
    "try:\n",
    "\tcursor.close()\n",
    "except Exception:\n",
    "\tpass  # Ignore if cursor is already closed or not defined\n",
    "\n",
    "query = 'SELECT COUNT(*) AS `Total students` FROM students'\n",
    "\n",
    "cursor = connection.cursor()\n",
    "cursor.execute(query)\n",
    "result = cursor.fetchone()\n",
    "print(\"Total students:\", result[0])\n",
    "cursor.close()"
   ]
  },
  {
   "cell_type": "code",
   "execution_count": 10,
   "id": "1c3aad4e",
   "metadata": {},
   "outputs": [
    {
     "data": {
      "text/plain": [
       "True"
      ]
     },
     "execution_count": 10,
     "metadata": {},
     "output_type": "execute_result"
    }
   ],
   "source": [
    "cursor =connection.cursor()\n",
    "cursor.close()"
   ]
  },
  {
   "cell_type": "code",
   "execution_count": 11,
   "id": "fa3ac8b4",
   "metadata": {},
   "outputs": [
    {
     "name": "stdout",
     "output_type": "stream",
     "text": [
      "Today's Date: 2025-07-21\n"
     ]
    },
    {
     "data": {
      "text/plain": [
       "True"
      ]
     },
     "execution_count": 11,
     "metadata": {},
     "output_type": "execute_result"
    }
   ],
   "source": [
    "query = \"SELECT *, CURRENT_DATE() AS `Today's Date` FROM students\"\n",
    "cur = connection.cursor()\n",
    "cur.execute(query)\n",
    "rows = cur.fetchall()\n",
    "if rows:\n",
    "\tprint(\"Today's Date:\", rows[0][-1])\n",
    "else:\n",
    "\tprint(\"No data found.\")\n",
    "cur.close()"
   ]
  },
  {
   "cell_type": "code",
   "execution_count": 12,
   "id": "ef38a74f",
   "metadata": {},
   "outputs": [
    {
     "name": "stdout",
     "output_type": "stream",
     "text": [
      "JAEL 2023-11-15\n",
      "SAMUEL 2023-12-20\n",
      "ANNA 2023-11-15\n",
      "ISAAC 2023-12-20\n",
      "MARK 2023-11-20\n"
     ]
    },
    {
     "data": {
      "text/plain": [
       "True"
      ]
     },
     "execution_count": 12,
     "metadata": {},
     "output_type": "execute_result"
    }
   ],
   "source": [
    "query = \"SELECT UPPER(name), enrollment_date FROM students\"\n",
    "cursor = connection.cursor()\n",
    "cursor.execute(query)\n",
    "results = cursor.fetchall()\n",
    "for row in results:\n",
    "    print(row[0], row[1])\n",
    "cursor.close()"
   ]
  },
  {
   "cell_type": "code",
   "execution_count": 13,
   "id": "80e29e6b",
   "metadata": {},
   "outputs": [
    {
     "name": "stdout",
     "output_type": "stream",
     "text": [
      "('computer science', 2)\n",
      "('software engineering', 2)\n",
      "('data science', 1)\n"
     ]
    },
    {
     "data": {
      "text/plain": [
       "True"
      ]
     },
     "execution_count": 13,
     "metadata": {},
     "output_type": "execute_result"
    }
   ],
   "source": [
    "# Get the number of students per program in descending order\n",
    "query = \"SELECT program, COUNT(*) AS `Number of students` FROM students GROUP BY program ORDER BY `Number of students` DESC\"\n",
    "cursor = connection.cursor()\n",
    "cursor.execute(query)\n",
    "results = cursor.fetchall()\n",
    "for row in results:\n",
    "    print(row)\n",
    "cursor.close()"
   ]
  },
  {
   "cell_type": "code",
   "execution_count": 14,
   "id": "16d94fed",
   "metadata": {},
   "outputs": [
    {
     "name": "stdout",
     "output_type": "stream",
     "text": [
      "('Jael', 20)\n",
      "('Mark', 20)\n"
     ]
    },
    {
     "data": {
      "text/plain": [
       "True"
      ]
     },
     "execution_count": 14,
     "metadata": {},
     "output_type": "execute_result"
    }
   ],
   "source": [
    "query = \"SELECT name,age FROM students WHERE age=(SELECT MIN(age)FROM STUDENTS)\"\n",
    "cursor = connection.cursor()\n",
    "cursor.execute(query)\n",
    "results = cursor.fetchall()\n",
    "for row in results:\n",
    "    print(row)\n",
    "cursor.close()"
   ]
  },
  {
   "cell_type": "code",
   "execution_count": 15,
   "id": "259ad6cf",
   "metadata": {},
   "outputs": [
    {
     "name": "stdout",
     "output_type": "stream",
     "text": [
      "connection closed successfully!\n"
     ]
    }
   ],
   "source": [
    "connection.close()\n",
    "print(\"connection closed successfully!\")\n"
   ]
  }
 ],
 "metadata": {
  "kernelspec": {
   "display_name": "Python 3",
   "language": "python",
   "name": "python3"
  },
  "language_info": {
   "codemirror_mode": {
    "name": "ipython",
    "version": 3
   },
   "file_extension": ".py",
   "mimetype": "text/x-python",
   "name": "python",
   "nbconvert_exporter": "python",
   "pygments_lexer": "ipython3",
   "version": "3.13.5"
  }
 },
 "nbformat": 4,
 "nbformat_minor": 5
}
